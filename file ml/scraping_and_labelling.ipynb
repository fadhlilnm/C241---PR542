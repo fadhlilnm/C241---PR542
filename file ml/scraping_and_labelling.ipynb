{
  "nbformat": 4,
  "nbformat_minor": 0,
  "metadata": {
    "colab": {
      "provenance": []
    },
    "kernelspec": {
      "name": "python3",
      "display_name": "Python 3"
    },
    "language_info": {
      "name": "python"
    }
  },
  "cells": [
    {
      "cell_type": "code",
      "execution_count": null,
      "metadata": {
        "id": "lr55Ew_bAcNY"
      },
      "outputs": [],
      "source": [
        "import re\n",
        "import requests\n",
        "from bs4 import BeautifulSoup\n",
        "import lxml.html\n",
        "import pandas as pd\n",
        "\n",
        "# Define the list of cities\n",
        "cities = [\n",
        "    'North Jakarta city, Indonesia',\n",
        "    'Central Jakarta city, Indonesia',\n",
        "    'South Jakarta city, Indonesia',\n",
        "    'East Jakarta city, Indonesia',\n",
        "    'West Jakarta city, Indonesia'\n",
        "]\n",
        "\n",
        "# Define common payload parameters\n",
        "base_payload = {\n",
        "    'source': 'google_maps',\n",
        "    'query': 'warkop',\n",
        "    'user_agent_type': 'desktop',\n",
        "    'domain': 'com',\n",
        "    'start_page': '1',\n",
        "    'pages': '8'\n",
        "}\n",
        "\n",
        "# Loop through each city\n",
        "for city in cities:\n",
        "    # Update the payload with the current city\n",
        "    payload = base_payload.copy()\n",
        "    payload['geo_location'] = city\n",
        "\n",
        "    # Make the request to the API\n",
        "    response = requests.request(\n",
        "        'POST',\n",
        "        'https://realtime.oxylabs.io/v1/queries',\n",
        "        auth=('Scraper_7pVIN', 'Rumahjoglo01'),\n",
        "        json=payload,\n",
        "        timeout=180\n",
        "    )\n",
        "\n",
        "    # Initialize an empty list to store data for the current city\n",
        "    city_data = []\n",
        "\n",
        "    # Check if the request was successful\n",
        "    if response.status_code == 200:\n",
        "        results = response.json()['results']\n",
        "        html_files = [result['content'] for result in results]\n",
        "\n",
        "        # Define selectors\n",
        "        name_selector = '[role=\"heading\"]'\n",
        "        rating_selector = 'span[aria-hidden=\"true\"]'\n",
        "        rating_count_selector = '[class*=\"RDApEe\"]'\n",
        "        hours_selector = '.rllt__details div:nth-of-type(4)'\n",
        "        details_selector = '.rllt__details div:nth-of-type(5)'\n",
        "        price_selector = '.rllt__details div:nth-of-type(2) > span:nth-of-type(2)'\n",
        "        lat_selector = '[data-lat]'\n",
        "        lng_selector = '[data-lng]'\n",
        "        type_selector = '//div[@class=\"rllt__details\"]/div[2]/text()'\n",
        "        address_selector = '.rllt__details div:nth-of-type(3)'\n",
        "\n",
        "        # Extract data from each HTML file\n",
        "        for html in html_files:\n",
        "            soup = BeautifulSoup(html, 'html.parser')\n",
        "            lxml_obj = lxml.html.fromstring(str(soup))\n",
        "            index = -1\n",
        "\n",
        "            for listing in soup.select('[class=\"VkpGBb\"]'):\n",
        "                index += 1\n",
        "                place = listing.parent\n",
        "\n",
        "                name_el = place.select_one(name_selector)\n",
        "                name = name_el.text.strip() if name_el else ''\n",
        "\n",
        "                rating_el = place.select_one(rating_selector)\n",
        "                rating = rating_el.text.strip() if rating_el else ''\n",
        "\n",
        "                rating_count_el = place.select_one(rating_count_selector)\n",
        "                rating_count = ''\n",
        "                if rating_count_el:\n",
        "                    count_match = re.search(r'\\((.+)\\)', rating_count_el.text)\n",
        "                    rating_count = count_match.group(1) if count_match else ''\n",
        "\n",
        "                hours_el = place.select_one(hours_selector)\n",
        "                hours = hours_el.text.strip() if hours_el else ''\n",
        "                if 'opens' not in hours.lower():\n",
        "                    hours = ''\n",
        "\n",
        "                details_el = place.select_one(details_selector)\n",
        "                details = details_el.text.strip() if details_el else ''\n",
        "\n",
        "                price_level_el = place.select_one(price_selector)\n",
        "                price_level = price_level_el.text.strip() if price_level_el else ''\n",
        "\n",
        "                lat_el = soup.select_one(lat_selector)\n",
        "                lat = lat_el.get('data-lat') if lat_el else ''\n",
        "\n",
        "                lng_el = soup.select_one(lng_selector)\n",
        "                lng = lng_el.get('data-lng') if lng_el else ''\n",
        "\n",
        "                type_el = lxml_obj.xpath(type_selector)\n",
        "                place_types = []\n",
        "                for item in type_el:\n",
        "                    parts = item.strip().split('·')\n",
        "                    non_empty_parts = [part.strip() for part in parts if part.strip()]\n",
        "                    if non_empty_parts:\n",
        "                        place_types.append(non_empty_parts[-1])\n",
        "\n",
        "                address_el = place.select_one(address_selector)\n",
        "                address = address_el.text.strip() if address_el else ''\n",
        "\n",
        "                place_data = {\n",
        "                    'city': city,\n",
        "                    'name': name,\n",
        "                    'place_type': place_types[index] if index < len(place_types) else '',  # Ensure index is within bounds\n",
        "                    'address': address,\n",
        "                    'rating': rating,\n",
        "                    'price_level': price_level,\n",
        "                    'rating_count': rating_count,\n",
        "                    'latitude': lat,\n",
        "                    'longitude': lng,\n",
        "                    'hours': hours,\n",
        "                    'details': details,\n",
        "                }\n",
        "                city_data.append(place_data)\n",
        "    else:\n",
        "        print(f\"Failed to retrieve data for {city}, status code: {response.status_code}\")\n",
        "\n",
        "    # Convert the collected data to a DataFrame and save it to a CSV file for the current city\n",
        "    df = pd.DataFrame(city_data)\n",
        "    city_name = city.split(',')[0].replace(' ', '_').lower()\n",
        "    df.to_csv(f\"data_{city_name}.csv\", index=False)\n"
      ]
    },
    {
      "cell_type": "code",
      "source": [
        "columns_to_delete = ['place_type', 'price_level', 'latitude', 'longitude', 'hours', 'details']"
      ],
      "metadata": {
        "id": "BsXcfr4CNekC"
      },
      "execution_count": null,
      "outputs": []
    },
    {
      "cell_type": "code",
      "source": [
        "columns_to_add = ['ac',\n",
        "                  'parking',\n",
        "                  'toilet',\n",
        "                  'wifi',\n",
        "                  '24hours']"
      ],
      "metadata": {
        "id": "RwWUE2z90W8P"
      },
      "execution_count": null,
      "outputs": []
    },
    {
      "cell_type": "code",
      "source": [
        "import numpy as np\n",
        "\n",
        "for city in cities:\n",
        "    # Read the CSV file for the current city\n",
        "    df = pd.read_csv(f\"data_{city_name}.csv\")\n",
        "\n",
        "    # Delete specified columns\n",
        "    df = df.drop(columns=columns_to_delete, axis=1)\n",
        "\n",
        "    # Remove rows with missing values\n",
        "    df = df.dropna()\n",
        "\n",
        "    # Remove duplicate rows\n",
        "    df = df.drop_duplicates()\n",
        "\n",
        "    # Add 7 new columns with 90% 1s and 10% 0s\n",
        "    for column_name in range(columns_to_add):\n",
        "        column_name = f'new_column_{i+1}'\n",
        "        data = np.random.choice([1, 0], size=len(df), p=[0.9, 0.1])\n",
        "        df[column_name] = data\n",
        "\n",
        "    # Save the modified DataFrame to a new CSV file\n",
        "    city_name = city.split(',')[0].replace(' ', '_').lower()\n",
        "    df.to_csv(f\"new_data_{city_name}.csv\", index=False)\n",
        "\n"
      ],
      "metadata": {
        "id": "KircmBzLMaUo"
      },
      "execution_count": null,
      "outputs": []
    },
    {
      "cell_type": "code",
      "source": [
        "from google.colab import files\n",
        "for city in cities:\n",
        "  city_name = city.split(',')[0].replace(' ', '_').lower()\n",
        "  files.download(f\"new_data_{city_name}.csv\")"
      ],
      "metadata": {
        "colab": {
          "base_uri": "https://localhost:8080/",
          "height": 17
        },
        "id": "dmGFs9KfMAs9",
        "outputId": "61e5f3b4-3c18-4778-a2fc-b5e766c61241"
      },
      "execution_count": null,
      "outputs": [
        {
          "output_type": "display_data",
          "data": {
            "text/plain": [
              "<IPython.core.display.Javascript object>"
            ],
            "application/javascript": [
              "\n",
              "    async function download(id, filename, size) {\n",
              "      if (!google.colab.kernel.accessAllowed) {\n",
              "        return;\n",
              "      }\n",
              "      const div = document.createElement('div');\n",
              "      const label = document.createElement('label');\n",
              "      label.textContent = `Downloading \"${filename}\": `;\n",
              "      div.appendChild(label);\n",
              "      const progress = document.createElement('progress');\n",
              "      progress.max = size;\n",
              "      div.appendChild(progress);\n",
              "      document.body.appendChild(div);\n",
              "\n",
              "      const buffers = [];\n",
              "      let downloaded = 0;\n",
              "\n",
              "      const channel = await google.colab.kernel.comms.open(id);\n",
              "      // Send a message to notify the kernel that we're ready.\n",
              "      channel.send({})\n",
              "\n",
              "      for await (const message of channel.messages) {\n",
              "        // Send a message to notify the kernel that we're ready.\n",
              "        channel.send({})\n",
              "        if (message.buffers) {\n",
              "          for (const buffer of message.buffers) {\n",
              "            buffers.push(buffer);\n",
              "            downloaded += buffer.byteLength;\n",
              "            progress.value = downloaded;\n",
              "          }\n",
              "        }\n",
              "      }\n",
              "      const blob = new Blob(buffers, {type: 'application/binary'});\n",
              "      const a = document.createElement('a');\n",
              "      a.href = window.URL.createObjectURL(blob);\n",
              "      a.download = filename;\n",
              "      div.appendChild(a);\n",
              "      a.click();\n",
              "      div.remove();\n",
              "    }\n",
              "  "
            ]
          },
          "metadata": {}
        },
        {
          "output_type": "display_data",
          "data": {
            "text/plain": [
              "<IPython.core.display.Javascript object>"
            ],
            "application/javascript": [
              "download(\"download_60a2286c-8815-4b05-af43-aa3533bdfb65\", \"new_data_north_jakarta_city.csv\", 12096)"
            ]
          },
          "metadata": {}
        },
        {
          "output_type": "display_data",
          "data": {
            "text/plain": [
              "<IPython.core.display.Javascript object>"
            ],
            "application/javascript": [
              "\n",
              "    async function download(id, filename, size) {\n",
              "      if (!google.colab.kernel.accessAllowed) {\n",
              "        return;\n",
              "      }\n",
              "      const div = document.createElement('div');\n",
              "      const label = document.createElement('label');\n",
              "      label.textContent = `Downloading \"${filename}\": `;\n",
              "      div.appendChild(label);\n",
              "      const progress = document.createElement('progress');\n",
              "      progress.max = size;\n",
              "      div.appendChild(progress);\n",
              "      document.body.appendChild(div);\n",
              "\n",
              "      const buffers = [];\n",
              "      let downloaded = 0;\n",
              "\n",
              "      const channel = await google.colab.kernel.comms.open(id);\n",
              "      // Send a message to notify the kernel that we're ready.\n",
              "      channel.send({})\n",
              "\n",
              "      for await (const message of channel.messages) {\n",
              "        // Send a message to notify the kernel that we're ready.\n",
              "        channel.send({})\n",
              "        if (message.buffers) {\n",
              "          for (const buffer of message.buffers) {\n",
              "            buffers.push(buffer);\n",
              "            downloaded += buffer.byteLength;\n",
              "            progress.value = downloaded;\n",
              "          }\n",
              "        }\n",
              "      }\n",
              "      const blob = new Blob(buffers, {type: 'application/binary'});\n",
              "      const a = document.createElement('a');\n",
              "      a.href = window.URL.createObjectURL(blob);\n",
              "      a.download = filename;\n",
              "      div.appendChild(a);\n",
              "      a.click();\n",
              "      div.remove();\n",
              "    }\n",
              "  "
            ]
          },
          "metadata": {}
        },
        {
          "output_type": "display_data",
          "data": {
            "text/plain": [
              "<IPython.core.display.Javascript object>"
            ],
            "application/javascript": [
              "download(\"download_bf903250-a687-4d07-a616-8e432a5afde7\", \"new_data_central_jakarta_city.csv\", 12795)"
            ]
          },
          "metadata": {}
        },
        {
          "output_type": "display_data",
          "data": {
            "text/plain": [
              "<IPython.core.display.Javascript object>"
            ],
            "application/javascript": [
              "\n",
              "    async function download(id, filename, size) {\n",
              "      if (!google.colab.kernel.accessAllowed) {\n",
              "        return;\n",
              "      }\n",
              "      const div = document.createElement('div');\n",
              "      const label = document.createElement('label');\n",
              "      label.textContent = `Downloading \"${filename}\": `;\n",
              "      div.appendChild(label);\n",
              "      const progress = document.createElement('progress');\n",
              "      progress.max = size;\n",
              "      div.appendChild(progress);\n",
              "      document.body.appendChild(div);\n",
              "\n",
              "      const buffers = [];\n",
              "      let downloaded = 0;\n",
              "\n",
              "      const channel = await google.colab.kernel.comms.open(id);\n",
              "      // Send a message to notify the kernel that we're ready.\n",
              "      channel.send({})\n",
              "\n",
              "      for await (const message of channel.messages) {\n",
              "        // Send a message to notify the kernel that we're ready.\n",
              "        channel.send({})\n",
              "        if (message.buffers) {\n",
              "          for (const buffer of message.buffers) {\n",
              "            buffers.push(buffer);\n",
              "            downloaded += buffer.byteLength;\n",
              "            progress.value = downloaded;\n",
              "          }\n",
              "        }\n",
              "      }\n",
              "      const blob = new Blob(buffers, {type: 'application/binary'});\n",
              "      const a = document.createElement('a');\n",
              "      a.href = window.URL.createObjectURL(blob);\n",
              "      a.download = filename;\n",
              "      div.appendChild(a);\n",
              "      a.click();\n",
              "      div.remove();\n",
              "    }\n",
              "  "
            ]
          },
          "metadata": {}
        },
        {
          "output_type": "display_data",
          "data": {
            "text/plain": [
              "<IPython.core.display.Javascript object>"
            ],
            "application/javascript": [
              "download(\"download_36c1c30f-4c6c-4988-bd6d-da4a666deb8b\", \"new_data_south_jakarta_city.csv\", 13881)"
            ]
          },
          "metadata": {}
        },
        {
          "output_type": "display_data",
          "data": {
            "text/plain": [
              "<IPython.core.display.Javascript object>"
            ],
            "application/javascript": [
              "\n",
              "    async function download(id, filename, size) {\n",
              "      if (!google.colab.kernel.accessAllowed) {\n",
              "        return;\n",
              "      }\n",
              "      const div = document.createElement('div');\n",
              "      const label = document.createElement('label');\n",
              "      label.textContent = `Downloading \"${filename}\": `;\n",
              "      div.appendChild(label);\n",
              "      const progress = document.createElement('progress');\n",
              "      progress.max = size;\n",
              "      div.appendChild(progress);\n",
              "      document.body.appendChild(div);\n",
              "\n",
              "      const buffers = [];\n",
              "      let downloaded = 0;\n",
              "\n",
              "      const channel = await google.colab.kernel.comms.open(id);\n",
              "      // Send a message to notify the kernel that we're ready.\n",
              "      channel.send({})\n",
              "\n",
              "      for await (const message of channel.messages) {\n",
              "        // Send a message to notify the kernel that we're ready.\n",
              "        channel.send({})\n",
              "        if (message.buffers) {\n",
              "          for (const buffer of message.buffers) {\n",
              "            buffers.push(buffer);\n",
              "            downloaded += buffer.byteLength;\n",
              "            progress.value = downloaded;\n",
              "          }\n",
              "        }\n",
              "      }\n",
              "      const blob = new Blob(buffers, {type: 'application/binary'});\n",
              "      const a = document.createElement('a');\n",
              "      a.href = window.URL.createObjectURL(blob);\n",
              "      a.download = filename;\n",
              "      div.appendChild(a);\n",
              "      a.click();\n",
              "      div.remove();\n",
              "    }\n",
              "  "
            ]
          },
          "metadata": {}
        },
        {
          "output_type": "display_data",
          "data": {
            "text/plain": [
              "<IPython.core.display.Javascript object>"
            ],
            "application/javascript": [
              "download(\"download_53bffcf6-0192-4e2e-b27d-1863db155c65\", \"new_data_east_jakarta_city.csv\", 14984)"
            ]
          },
          "metadata": {}
        },
        {
          "output_type": "display_data",
          "data": {
            "text/plain": [
              "<IPython.core.display.Javascript object>"
            ],
            "application/javascript": [
              "\n",
              "    async function download(id, filename, size) {\n",
              "      if (!google.colab.kernel.accessAllowed) {\n",
              "        return;\n",
              "      }\n",
              "      const div = document.createElement('div');\n",
              "      const label = document.createElement('label');\n",
              "      label.textContent = `Downloading \"${filename}\": `;\n",
              "      div.appendChild(label);\n",
              "      const progress = document.createElement('progress');\n",
              "      progress.max = size;\n",
              "      div.appendChild(progress);\n",
              "      document.body.appendChild(div);\n",
              "\n",
              "      const buffers = [];\n",
              "      let downloaded = 0;\n",
              "\n",
              "      const channel = await google.colab.kernel.comms.open(id);\n",
              "      // Send a message to notify the kernel that we're ready.\n",
              "      channel.send({})\n",
              "\n",
              "      for await (const message of channel.messages) {\n",
              "        // Send a message to notify the kernel that we're ready.\n",
              "        channel.send({})\n",
              "        if (message.buffers) {\n",
              "          for (const buffer of message.buffers) {\n",
              "            buffers.push(buffer);\n",
              "            downloaded += buffer.byteLength;\n",
              "            progress.value = downloaded;\n",
              "          }\n",
              "        }\n",
              "      }\n",
              "      const blob = new Blob(buffers, {type: 'application/binary'});\n",
              "      const a = document.createElement('a');\n",
              "      a.href = window.URL.createObjectURL(blob);\n",
              "      a.download = filename;\n",
              "      div.appendChild(a);\n",
              "      a.click();\n",
              "      div.remove();\n",
              "    }\n",
              "  "
            ]
          },
          "metadata": {}
        },
        {
          "output_type": "display_data",
          "data": {
            "text/plain": [
              "<IPython.core.display.Javascript object>"
            ],
            "application/javascript": [
              "download(\"download_909f33a8-5c8a-4257-8450-33f8ff7bc95e\", \"new_data_west_jakarta_city.csv\", 11623)"
            ]
          },
          "metadata": {}
        }
      ]
    }
  ]
}